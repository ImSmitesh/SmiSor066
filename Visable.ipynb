{
  "cells": [
    {
      "cell_type": "code",
      "execution_count": 5,
      "metadata": {
        "id": "_pDcitARSXcT"
      },
      "outputs": [],
      "source": [
        "import pandas as pd"
      ]
    },
    {
      "cell_type": "code",
      "execution_count": 6,
      "metadata": {
        "id": "lrmvJ47fSfm_"
      },
      "outputs": [],
      "source": [
        "df = pd.read_csv(\"sample_data.csv\")"
      ]
    },
    {
      "cell_type": "code",
      "execution_count": 7,
      "metadata": {
        "id": "Yq84_GsJSfzo"
      },
      "outputs": [],
      "source": [
        "df = df.dropna()"
      ]
    },
    {
      "cell_type": "code",
      "execution_count": 9,
      "metadata": {
        "id": "V1wR-3J-SnTi"
      },
      "outputs": [
        {
          "ename": "NameError",
          "evalue": "name 'y' is not defined",
          "output_type": "error",
          "traceback": [
            "\u001b[0;31m---------------------------------------------------------------------------\u001b[0m",
            "\u001b[0;31mNameError\u001b[0m                                 Traceback (most recent call last)",
            "Cell \u001b[0;32mIn[9], line 21\u001b[0m\n\u001b[1;32m     18\u001b[0m y_encoded \u001b[38;5;241m=\u001b[39m label_encoder\u001b[38;5;241m.\u001b[39mfit_transform(df[\u001b[38;5;124m'\u001b[39m\u001b[38;5;124mlabel\u001b[39m\u001b[38;5;124m'\u001b[39m])\n\u001b[1;32m     20\u001b[0m \u001b[38;5;66;03m#Splitting the data into train and test\u001b[39;00m\n\u001b[0;32m---> 21\u001b[0m X_train, X_test, y_train, y_test \u001b[38;5;241m=\u001b[39m train_test_split(X, \u001b[43my\u001b[49m, test_size\u001b[38;5;241m=\u001b[39m\u001b[38;5;241m0.2\u001b[39m, random_state\u001b[38;5;241m=\u001b[39m\u001b[38;5;241m42\u001b[39m)\n",
            "\u001b[0;31mNameError\u001b[0m: name 'y' is not defined"
          ]
        }
      ],
      "source": [
        "from sklearn.feature_extraction.text import TfidfVectorizer\n",
        "from sklearn.preprocessing import LabelEncoder\n",
        "from sklearn.model_selection import train_test_split\n",
        "import joblib\n",
        "\n",
        "#lower casing the data\n",
        "df['text'] = df['text'].str.lower()\n",
        "\n",
        "#Converting text to vectors\n",
        "vectorizer = TfidfVectorizer(max_features=1000)\n",
        "X = vectorizer.fit_transform(df['text'])\n",
        "\n",
        "vectorizer_filename = \"tfidf_vectorizer.pkl\"\n",
        "joblib.dump(vectorizer, vectorizer_filename)\n",
        "\n",
        "#Encoding the labels to neumeric values\n",
        "label_encoder = LabelEncoder()\n",
        "y_encoded = label_encoder.fit_transform(df['label'])\n",
        "\n",
        "#Splitting the data into train and test\n",
        "X_train, X_test, y_train, y_test = train_test_split(X, y, test_size=0.2, random_state=42)"
      ]
    },
    {
      "cell_type": "code",
      "execution_count": null,
      "metadata": {
        "colab": {
          "base_uri": "https://localhost:8080/"
        },
        "id": "jvlyuvItSpOm",
        "outputId": "31f3c099-6177-46e9-f2b4-88fdb032c761"
      },
      "outputs": [
        {
          "name": "stdout",
          "output_type": "stream",
          "text": [
            "Training Logistic Regression...\n"
          ]
        },
        {
          "name": "stderr",
          "output_type": "stream",
          "text": [
            "/usr/local/lib/python3.10/dist-packages/sklearn/linear_model/_logistic.py:458: ConvergenceWarning: lbfgs failed to converge (status=1):\n",
            "STOP: TOTAL NO. of ITERATIONS REACHED LIMIT.\n",
            "\n",
            "Increase the number of iterations (max_iter) or scale the data as shown in:\n",
            "    https://scikit-learn.org/stable/modules/preprocessing.html\n",
            "Please also refer to the documentation for alternative solver options:\n",
            "    https://scikit-learn.org/stable/modules/linear_model.html#logistic-regression\n",
            "  n_iter_i = _check_optimize_result(\n"
          ]
        },
        {
          "name": "stdout",
          "output_type": "stream",
          "text": [
            "Accuracy for Logistic Regression: 0.8066944481785187\n",
            "              precision    recall  f1-score   support\n",
            "\n",
            "          ch       0.76      0.71      0.73       706\n",
            "         cnc       0.84      0.72      0.77       513\n",
            "          ct       0.92      0.76      0.83      1022\n",
            "          ft       0.73      0.92      0.82      2281\n",
            "          mr       0.85      0.70      0.77      1009\n",
            "         pkg       0.86      0.82      0.84      1908\n",
            "\n",
            "    accuracy                           0.81      7439\n",
            "   macro avg       0.83      0.77      0.79      7439\n",
            "weighted avg       0.82      0.81      0.81      7439\n",
            "\n",
            "==================================================\n",
            "Model saved as Logistic Regression_model.pkl\n",
            "Training SVM...\n",
            "Accuracy for SVM: 0.8204059685441591\n",
            "              precision    recall  f1-score   support\n",
            "\n",
            "          ch       0.84      0.69      0.76       706\n",
            "         cnc       0.85      0.78      0.81       513\n",
            "          ct       0.92      0.77      0.84      1022\n",
            "          ft       0.75      0.92      0.83      2281\n",
            "          mr       0.88      0.71      0.78      1009\n",
            "         pkg       0.83      0.85      0.84      1908\n",
            "\n",
            "    accuracy                           0.82      7439\n",
            "   macro avg       0.85      0.79      0.81      7439\n",
            "weighted avg       0.83      0.82      0.82      7439\n",
            "\n",
            "==================================================\n",
            "Model saved as SVM_model.pkl\n",
            "Training Random Forest...\n",
            "Accuracy for Random Forest: 0.8197338351929023\n",
            "              precision    recall  f1-score   support\n",
            "\n",
            "          ch       0.83      0.69      0.76       706\n",
            "         cnc       0.77      0.78      0.77       513\n",
            "          ct       0.92      0.76      0.83      1022\n",
            "          ft       0.76      0.92      0.83      2281\n",
            "          mr       0.87      0.70      0.78      1009\n",
            "         pkg       0.86      0.85      0.85      1908\n",
            "\n",
            "    accuracy                           0.82      7439\n",
            "   macro avg       0.83      0.78      0.80      7439\n",
            "weighted avg       0.83      0.82      0.82      7439\n",
            "\n",
            "==================================================\n",
            "Model saved as Random Forest_model.pkl\n",
            "Training Gradient Boosting...\n",
            "Accuracy for Gradient Boosting: 0.7011695120311869\n",
            "              precision    recall  f1-score   support\n",
            "\n",
            "          ch       0.95      0.52      0.67       706\n",
            "         cnc       0.87      0.74      0.80       513\n",
            "          ct       0.98      0.53      0.69      1022\n",
            "          ft       0.55      0.95      0.69      2281\n",
            "          mr       0.90      0.52      0.66      1009\n",
            "         pkg       0.81      0.65      0.72      1908\n",
            "\n",
            "    accuracy                           0.70      7439\n",
            "   macro avg       0.84      0.65      0.71      7439\n",
            "weighted avg       0.78      0.70      0.70      7439\n",
            "\n",
            "==================================================\n",
            "Model saved as Gradient Boosting_model.pkl\n"
          ]
        }
      ],
      "source": [
        "from sklearn.linear_model import LogisticRegression\n",
        "from sklearn.metrics import accuracy_score, classification_report\n",
        "from sklearn.ensemble import RandomForestClassifier\n",
        "from sklearn.ensemble import GradientBoostingClassifier\n",
        "from sklearn.svm import SVC\n",
        "import joblib\n",
        "\n",
        "#defining different models to train\n",
        "models = {\n",
        "    'Logistic Regression': LogisticRegression(),\n",
        "    'SVM': SVC(decision_function_shape='ovo'),\n",
        "    'Random Forest': RandomForestClassifier(),\n",
        "    'Gradient Boosting': GradientBoostingClassifier()\n",
        "}\n",
        "\n",
        "\n",
        "# Training and evaluating each model\n",
        "for name, model in models.items():\n",
        "    print(f\"Training {name}...\")\n",
        "    model.fit(X_train, y_train)\n",
        "    y_pred = model.predict(X_test)\n",
        "    accuracy = accuracy_score(y_test, y_pred)\n",
        "    print(f\"Accuracy for {name}: {accuracy}\")\n",
        "    print(classification_report(y_test, y_pred))\n",
        "    print(\"=\"*50)\n",
        "\n",
        "    model_filename = f\"{name}_model.pkl\"\n",
        "    joblib.dump(model, model_filename)\n",
        "    print(f\"Model saved as {model_filename}\")"
      ]
    },
    {
      "cell_type": "code",
      "execution_count": 11,
      "metadata": {
        "colab": {
          "base_uri": "https://localhost:8080/"
        },
        "id": "bJ9Ac85ZYACe",
        "outputId": "2013153d-bb15-4122-8b96-93a290448552"
      },
      "outputs": [
        {
          "ename": "AttributeError",
          "evalue": "'numpy.ndarray' object has no attribute 'predict'",
          "output_type": "error",
          "traceback": [
            "\u001b[0;31m---------------------------------------------------------------------------\u001b[0m",
            "\u001b[0;31mAttributeError\u001b[0m                            Traceback (most recent call last)",
            "Cell \u001b[0;32mIn[11], line 7\u001b[0m\n\u001b[1;32m      4\u001b[0m new_text_features \u001b[38;5;241m=\u001b[39m vectorizer\u001b[38;5;241m.\u001b[39mtransform([text])\n\u001b[1;32m      5\u001b[0m model \u001b[38;5;241m=\u001b[39m pickle\u001b[38;5;241m.\u001b[39mload(\u001b[38;5;28mopen\u001b[39m(\u001b[38;5;124m'\u001b[39m\u001b[38;5;124mGradient Boosting_model.pkl\u001b[39m\u001b[38;5;124m'\u001b[39m, \u001b[38;5;124m'\u001b[39m\u001b[38;5;124mrb\u001b[39m\u001b[38;5;124m'\u001b[39m))\n\u001b[0;32m----> 7\u001b[0m y_pred \u001b[38;5;241m=\u001b[39m \u001b[43mmodel\u001b[49m\u001b[38;5;241;43m.\u001b[39;49m\u001b[43mpredict\u001b[49m(new_text_features)\n\u001b[1;32m      8\u001b[0m \u001b[38;5;28mprint\u001b[39m(y_pred)\n",
            "\u001b[0;31mAttributeError\u001b[0m: 'numpy.ndarray' object has no attribute 'predict'"
          ]
        }
      ],
      "source": [
        "import pickle\n",
        "\n",
        "text = input(\"Enter text: \")\n",
        "new_text_features = vectorizer.transform([text])\n",
        "model = pickle.load(open('Gradient Boosting_model.pkl', 'rb'))\n",
        "\n",
        "y_pred = model.predict(new_text_features)\n",
        "print(y_pred)"
      ]
    }
  ],
  "metadata": {
    "accelerator": "GPU",
    "colab": {
      "gpuType": "T4",
      "provenance": []
    },
    "kernelspec": {
      "display_name": "Python 3",
      "name": "python3"
    },
    "language_info": {
      "codemirror_mode": {
        "name": "ipython",
        "version": 3
      },
      "file_extension": ".py",
      "mimetype": "text/x-python",
      "name": "python",
      "nbconvert_exporter": "python",
      "pygments_lexer": "ipython3",
      "version": "3.10.13"
    }
  },
  "nbformat": 4,
  "nbformat_minor": 0
}
